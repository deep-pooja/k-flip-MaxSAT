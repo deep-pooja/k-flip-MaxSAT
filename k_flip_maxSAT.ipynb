{
  "nbformat": 4,
  "nbformat_minor": 0,
  "metadata": {
    "colab": {
      "name": "k-flip-maxSAT.ipynb",
      "provenance": [],
      "collapsed_sections": [],
      "authorship_tag": "ABX9TyNk6xU2M9LtcoyKKs7sKoD3",
      "include_colab_link": true
    },
    "kernelspec": {
      "name": "python3",
      "display_name": "Python 3"
    },
    "language_info": {
      "name": "python"
    }
  },
  "cells": [
    {
      "cell_type": "markdown",
      "metadata": {
        "id": "view-in-github",
        "colab_type": "text"
      },
      "source": [
        "<a href=\"https://colab.research.google.com/github/deepacefic/k-flip-MaxSAT/blob/main/k_flip_maxSAT.ipynb\" target=\"_parent\"><img src=\"https://colab.research.google.com/assets/colab-badge.svg\" alt=\"Open In Colab\"/></a>"
      ]
    },
    {
      "cell_type": "markdown",
      "source": [
        "#**Mini Project: A k-flip local search algorithm for MaxSAT**\n",
        "\n",
        "____________________\n",
        "\n",
        "*Deep Pooja*"
      ],
      "metadata": {
        "id": "PEQSAmIZ7jpL"
      }
    },
    {
      "cell_type": "markdown",
      "source": [
        "##**Mini Project**\n",
        "----------------------------------------------------------------------\n",
        "Consider a propositional formula F in conjunctive normal form (CNF). Given a truth assignment τ to the variables of F, a k-flip is another assignment τ', which disagrees with τ on at most k variables. k-Flip Max SAT refers to the problem of deciding, given F, τ , and k, whether there exists a k-flip τ' which satisfies strictly more clauses of F than τ does (observe that the clauses satisfied by τ' is not necessarily a superset of the clauses satisfied by τ ). This problem is intractable.\n",
        "\n",
        "Your task is to develop, implement, and test an algorithm 'A' that takes as input\n",
        "a CNF formula F and an integer k. The algorithm first generates a random assign-\n",
        "ment τ . Then it starts a loop where at each iteration it tries to increase the number of satisfied clauses using a k-flip. The algorithm terminates after a specified number of iterations or when a given timeout is reached. The k-flip improvements are found by solving k-Flip Max SAT utilizing an external (CDCL) SAT solver. Hence, 'A' employs the SAT solver as an oracle. We recommend using the Python toolkit PySAT to invoke the SAT solver.\n",
        "'A' can be seen as a MaxSAT algorithm; we don’t expect it to be a very efficient\n",
        "one, though. However, it is an interesting research question to analyse empirically how the improvement rate correlates with the value of k.\n",
        "Implement and test algorithm 'A' with a basic prototype. Ideally, the prototype\n",
        "should accept input CNF formulas in DIMACS format because there are many\n",
        "benchmark instances available in that format.\n",
        "Use your empirical results to analyze k’s influence on the speed of improvement\n",
        "in terms of A’s the number of iterations. For this, run the algorithm with a few\n",
        "choices of k ≤ 20. A secondary question is to compare the number of iterations with the actual run time including the time spent by the SAT solver."
      ],
      "metadata": {
        "id": "-aASwwvkD6M3"
      }
    },
    {
      "cell_type": "markdown",
      "source": [
        "**Sketch of the algorithm:**\n",
        "\n",
        "The pseudocode is self-explanatory with proper comments.\n",
        "\n",
        "\n",
        "```\n",
        "Input: A CNF formula F and An integer k\n",
        "Output: An assignmnet T with maximum satisfiability of F\n",
        "\n",
        "1. num_vars<---F.nv //getting the largest variable in the formula\n",
        "2. T<---random_pick(num_vars,{1,0}) //initial assignment\n",
        "3. score<---nof_satisfied_clauses(F,T)\n",
        "4. oracle<---Solve()  // initialize oracle\n",
        "\n",
        "// first cardinality constraint encoding k-flips(atmost),\n",
        " that doest not change during each iteration since k is fixed\n",
        "\n",
        "5. G'<---encode_k-flips(type=AtMost,bound = k) \n",
        "6. for i in G'.clauses:\n",
        "7.     oracle.add_clause(i) // feed the clauses to the SAT oracle\n",
        "\n",
        "// Now, start the loop. Note that the encoding of second cardinality constraint \n",
        "concerning no. of satisfied clauses will change in \n",
        "each iteration in order to maximize it.\n",
        "\n",
        "8. for i <=iterations:\n",
        "9.    G''<---encode_nof_satisfied-cls(type = AtLeast, bound = score)\n",
        "10.    for i in G''.clauses:\n",
        "11.       oracle.add_clauses(i) // feed it to the oracle\n",
        "12.     is_SAT = oracle.solve()  // solving the SAT oracle\n",
        "13.     if is_SAT == TRUE:\n",
        "14.        m = oracle.get_model() //  extracting the satisfying assignment/model\n",
        "15.        T' <--- func(m)       // new assignment(binary vector)\n",
        "16.        count_scl<---nof_satisfied_clauses(F,T') // no.of\n",
        " satisfied clauses of the original formula F using new assignment T'\n",
        "17.         score = count_scl  // increases the bound for the next iteration\n",
        "18.     else:        // abort\n",
        "19.     print(\"UnSAT at iteration\",i)\n",
        "20.     oracle.delete()\n",
        "21.     break       \n",
        "   \n",
        "\n",
        "```\n",
        "\n",
        "\n",
        "\n"
      ],
      "metadata": {
        "id": "RuH6Cstz9jeI"
      }
    },
    {
      "cell_type": "markdown",
      "source": [
        "## Data used: 100 uniform random 3-SAT instances with 430 clauses."
      ],
      "metadata": {
        "id": "sZUXTC6de2eZ"
      }
    },
    {
      "cell_type": "markdown",
      "source": [
        "## Implentaion using PySAT."
      ],
      "metadata": {
        "id": "gl50ozOniZLS"
      }
    },
    {
      "cell_type": "markdown",
      "source": [
        "##Installing the PySAT library"
      ],
      "metadata": {
        "id": "3YwiI2_S9PKa"
      }
    },
    {
      "cell_type": "code",
      "source": [
        "!pip install python-sat[pblib,aiger]"
      ],
      "metadata": {
        "id": "eqLrygHL7b-4"
      },
      "execution_count": null,
      "outputs": []
    },
    {
      "cell_type": "code",
      "source": [
        "#importing the requirments\n",
        "\n",
        "from pysat.solvers import Solver\n",
        "from pysat.formula import CNF\n",
        "from pysat.card import *\n",
        "import random\n",
        "import numpy as np\n",
        "\n",
        "\"\"\"\n",
        "Reading the CNF formula from DIMACS file\n",
        "\n",
        "\"\"\"\n",
        "with open('/content/uf100-06.cnf', 'r+') as fp:\n",
        "  f1 = CNF(from_fp=fp)  # reading from a file pointer\n",
        "\n",
        "print(f1.clauses)\n",
        "print(len(f1.clauses))"
      ],
      "metadata": {
        "colab": {
          "base_uri": "https://localhost:8080/"
        },
        "id": "UehyYRNx3oKf",
        "outputId": "f3a6d932-9faa-4b9b-c643-e8df7aab27e3"
      },
      "execution_count": null,
      "outputs": [
        {
          "output_type": "stream",
          "name": "stdout",
          "text": [
            "[[-21, -29, -89], [34, 88, 35], [67, -72, -26], [-93, 65, 16], [55, -5, 66], [23, -97, 42], [69, 21, -30], [9, 8, -24], [21, 39, -40], [74, 81, 66], [-52, 29, 39], [-36, 9, -48], [17, -21, 95], [-15, 75, 79], [15, -85, 80], [-76, -19, -61], [-5, -68, 34], [85, -100, -16], [-39, 29, 34], [-7, 24, 22], [-8, -22, -32], [-55, -96, 57], [10, -49, -36], [81, 11, -19], [-51, -9, 81], [85, -2, 50], [-6, 25, -37], [99, 23, 48], [23, 28, 32], [-99, -91, 43], [-8, -48, 39], [98, 68, 34], [-34, -29, 69], [2, 85, -43], [67, 25, 74], [-45, -11, 85], [92, -66, 15], [71, 34, 74], [-55, 17, 20], [-81, 16, -70], [-91, -70, -85], [22, -45, 18], [-82, -40, -51], [90, 34, 82], [54, -11, -47], [-97, 56, -41], [-33, -53, 38], [68, 71, 47], [-83, 15, -59], [95, 78, -100], [-13, -98, -20], [-46, -11, -4], [90, 28, -64], [62, -28, 4], [10, 86, 5], [-75, -40, -3], [45, 38, -91], [41, 11, 79], [-93, 10, 52], [23, 40, -29], [32, 24, -95], [14, 62, 24], [55, -50, 56], [57, 45, 12], [-51, -63, 81], [35, -21, -54], [16, -68, 33], [84, -26, 92], [-42, 15, 89], [-95, -74, -93], [-6, 88, -3], [-30, -33, -25], [-3, -56, -22], [38, -37, 95], [57, -84, 90], [31, 65, 30], [91, 53, 79], [12, 17, -5], [14, -49, 36], [24, -31, -9], [-56, 10, -33], [31, 34, 9], [-58, -62, 39], [-63, 8, -98], [23, -39, -3], [99, -7, 93], [-88, 22, 70], [-18, 88, -81], [5, 13, -84], [-74, -32, -38], [-59, -62, -96], [-87, -80, 9], [-75, 92, -26], [31, -52, -88], [13, 26, -29], [39, 61, 52], [22, -98, -24], [-68, -28, 90], [-69, 13, 89], [-52, -39, -68], [71, -27, 30], [-68, 83, -39], [-89, -81, -18], [16, -42, 13], [46, 49, -77], [83, 100, -92], [-54, -90, 36], [-83, 69, 29], [100, -64, 43], [51, 14, 88], [-93, 10, 15], [-37, -76, 27], [20, 49, 75], [-50, -49, -86], [32, 11, -67], [35, 30, 4], [87, 50, -1], [-19, -42, -17], [16, 40, -14], [54, -64, 84], [15, -17, -50], [43, -52, 13], [11, -83, -77], [93, -91, 7], [-80, -45, -3], [83, -80, -1], [96, -40, -18], [43, 94, 65], [-87, 14, 31], [32, -99, 67], [18, -44, 11], [85, -72, 47], [85, 23, 24], [89, 28, -59], [42, -52, 78], [40, 3, -83], [58, 5, 31], [-34, 91, -33], [-3, 29, 2], [40, -90, -74], [56, -37, -61], [97, 44, -86], [-37, 82, 83], [43, 41, -51], [66, -42, -88], [-98, -14, 22], [41, -48, -52], [19, -12, 81], [-24, -61, -74], [-34, -4, 60], [71, 75, -67], [-70, 73, 27], [14, 59, 7], [38, 63, 86], [83, 64, 51], [-88, 7, 86], [-29, 7, 84], [-81, 16, 90], [-13, -68, 92], [-47, 62, 85], [-10, 93, -28], [-7, 75, -71], [21, -11, 88], [39, 11, -86], [52, -56, 27], [-57, -63, -23], [49, -65, -44], [-91, -75, -84], [-97, -23, -91], [-47, 5, 56], [4, -97, 72], [96, 29, 94], [-13, 39, 22], [-77, -14, -29], [68, 42, 86], [32, 19, 22], [33, -42, -32], [-74, -94, 17], [100, 66, 47], [-9, 1, -84], [20, -56, -17], [-45, 91, -3], [-55, -91, -77], [-5, 85, -32], [-94, 22, -66], [-75, -35, 45], [-54, -21, 94], [40, 50, -1], [82, -26, -71], [78, 71, 5], [-33, 22, 55], [-80, 67, 52], [-84, -63, 97], [71, -60, 44], [25, -50, 91], [50, 25, -60], [-36, -81, -40], [34, 38, 25], [-49, 93, 62], [13, -58, -83], [41, 36, 99], [74, -75, 81], [76, 95, -72], [-3, -74, 86], [-98, -78, -77], [-55, 21, 99], [54, 96, -14], [69, -85, -70], [34, -88, 68], [39, 50, -10], [-79, 85, 11], [17, 93, 28], [-4, 97, 21], [67, -71, 93], [-67, 29, 95], [-67, 24, 10], [10, 18, -41], [-74, 51, 65], [-99, 90, -71], [37, -91, 90], [-55, 34, -57], [-13, -21, 75], [-21, 31, -72], [-86, 23, 84], [17, -50, -99], [-40, -35, 100], [54, -11, -31], [51, -85, 18], [17, 56, -64], [9, 28, 27], [-73, -74, 42], [82, -24, 52], [100, -3, -17], [41, 25, -21], [-49, -64, 25], [-28, 71, 73], [-81, 63, -64], [92, 17, 78], [-67, 82, 71], [85, 71, -70], [41, -53, -37], [-25, 33, -40], [67, 18, 71], [-92, 93, -63], [-65, 85, 38], [14, 62, 41], [51, -47, 57], [-7, 90, -81], [43, -8, -85], [73, 52, -83], [-15, -39, -55], [73, -16, -15], [39, 61, -76], [-11, -54, -98], [-94, 32, -36], [69, 57, -99], [91, 85, 79], [-91, -52, 95], [-56, -82, 60], [-38, 70, -49], [33, 15, -47], [-95, 27, -44], [7, -22, -9], [-7, -43, 60], [84, 33, -6], [-23, -38, 66], [29, -64, 73], [45, -81, 37], [53, 10, 76], [2, 38, -17], [57, 81, 33], [56, -14, 63], [-57, 95, -2], [-9, 93, -79], [95, 13, -21], [78, 4, -43], [45, 86, -6], [28, -70, -51], [-99, -72, -84], [-61, -50, -7], [-44, 39, -58], [-79, -93, -74], [-41, -28, 57], [-83, 56, 91], [-61, -94, -96], [-21, 19, 94], [66, -84, 35], [-27, -8, 62], [-2, 82, 74], [38, -9, -2], [-88, -97, -94], [-24, -40, 82], [-93, -6, -57], [73, -91, -39], [-54, -20, -95], [31, 40, 66], [22, 46, -80], [53, -98, -66], [66, -24, 45], [-90, -23, -47], [53, 8, -39], [59, -53, 6], [-97, 9, -8], [-16, -83, -60], [-75, 33, 58], [-60, 69, -30], [-44, 34, 25], [8, 51, -84], [-7, 92, 59], [67, -19, 78], [-35, 31, 77], [-52, -65, -39], [-98, -72, 34], [81, -3, -35], [-84, -62, -98], [70, -21, 99], [-51, 36, 84], [73, -9, 19], [-49, 70, 17], [-62, -93, -74], [27, -23, -80], [45, 20, 1], [-76, -82, 21], [9, 35, -81], [38, 79, 82], [70, -64, 59], [14, -34, -46], [25, 38, 37], [56, -40, -58], [26, 2, -55], [43, 81, 56], [-27, -44, 78], [-28, 82, 77], [87, 83, 47], [-20, -44, 13], [66, -94, 6], [66, -21, 79], [-83, -21, 16], [66, 71, 25], [24, 35, 87], [-61, -75, 31], [-1, 61, 45], [13, 86, 60], [-71, 11, 15], [37, -47, -65], [-61, 43, 48], [-15, -9, 3], [-98, 100, 92], [1, -98, -47], [46, -29, -15], [83, 12, 40], [-73, -17, 56], [-82, 75, -41], [-10, 32, -67], [24, 92, 88], [-37, 85, -52], [-23, -88, 71], [-20, 45, -22], [-30, -28, 84], [54, 7, 23], [81, -82, 9], [-86, -80, -10], [4, 78, 18], [-77, -67, 63], [91, -16, -52], [37, -38, 78], [-68, 56, -15], [-51, 16, -49], [-3, -17, 53], [-10, -67, -31], [58, -17, -27], [-71, 30, -52], [56, 58, 80], [91, -28, 36], [-59, -2, -79], [78, -21, 75], [-100, 26, -67], [-16, -66, -32], [14, 61, -84], [60, -63, 77], [-96, 30, 60], [-8, -33, 41], [-49, -1, -16], [36, -9, 46], [-94, -18, -12], [-11, 52, 93], [85, 30, 59], [-75, 53, 44], [75, -68, 48], [-70, 80, -22], [45, 60, -29], [63, 15, -81], [65, 14, -38], [-47, -78, 36], [99, 67, -1], [98, 93, 11], [-77, 93, -55], [-42, -79, 7], [-48, 34, -88], [6, 25, -52], [-57, -42, 92], [-7, 44, 15], [-55, 43, -8], [-71, -70, -27], [-43, -59, 79], [-94, -21, 65], [7, -95, -76], [-50, -10, 19], [-51, -42, -9], [32, 42, -20], [-33, 28, -5], [29, 21, 87], [-80, 91, 52], [39, -99, -64], [10, 8, 4], [14, 49, -67], [-10, -74, 100], [-37, -57, -32], [-11, 94, -79], [37, -50, -62], [79, 93, -26], [25, 19, 45], [-65, 51, 79], [-77, 49, -28], [-9, -60, -19], [-47, 78, -90], [-44, -47, 18], [-9, 36, 82], [21, -8, -70], [17, 71, 52]]\n",
            "430\n"
          ]
        }
      ]
    },
    {
      "cell_type": "code",
      "source": [
        "num_vars = f1.nv #getting the largest identifier \n",
        "\n",
        "literals = list(range(1,num_vars+1)) # get the set of variables\n",
        "\n",
        "# Randomly generating initial assignment\n",
        "\n",
        "T = {} # dictionary to store the initial assignmnet whose keys are variables and values are 0 or 1\n",
        "for i in range(1,num_vars+1):\n",
        "        T[i] = np.random.randint(2) # initial assignment \n"
      ],
      "metadata": {
        "id": "8ma-cXqV7R67"
      },
      "execution_count": null,
      "outputs": []
    },
    {
      "cell_type": "code",
      "source": [
        "\"\"\"\n",
        "A function to compute the number of satisfying clauses given a CNF formula and an assignmnet \n",
        "\n",
        "\"\"\"\n",
        "def nof_scl(formula, T):\n",
        "  score = 0       # a varible to stores the number of satisying clauses:\n",
        "  flag = 0\n",
        "  for i,item in enumerate(formula):\n",
        "    for j, it in enumerate(item):\n",
        "      if it < 0:\n",
        "        it = -it\n",
        "        if T[it] == 0:\n",
        "          flag = flag+1\n",
        "      else:\n",
        "        if T[it] == 1:\n",
        "          flag = flag+1    \n",
        "    if flag == 3:           # conjunctive clause (T): when all of the literals that form it are true\n",
        "      score = score + 1\n",
        "      flag = 0\n",
        "  return score"
      ],
      "metadata": {
        "id": "a9PxZCuLZFMe"
      },
      "execution_count": null,
      "outputs": []
    },
    {
      "cell_type": "code",
      "source": [
        "score = nof_scl(f1.clauses, T)  # number of clauses satisfied by the initial assignmnent\n",
        "score "
      ],
      "metadata": {
        "colab": {
          "base_uri": "https://localhost:8080/"
        },
        "id": "suyMHK0vTtmb",
        "outputId": "faa932ea-b609-436b-b939-baafc5c357aa"
      },
      "execution_count": null,
      "outputs": [
        {
          "output_type": "execute_result",
          "data": {
            "text/plain": [
              "2"
            ]
          },
          "metadata": {},
          "execution_count": 67
        }
      ]
    },
    {
      "cell_type": "code",
      "source": [
        "iterations = 1000 # number of iteration\n",
        "nof_cl = []      # a list to store no. of satisfying clauses in each iteration\n",
        "nof_cl.append(score) "
      ],
      "metadata": {
        "id": "aOSd-UqJzyoM"
      },
      "execution_count": null,
      "outputs": []
    },
    {
      "cell_type": "code",
      "source": [
        "k = 5 #the parameter k (choosen)"
      ],
      "metadata": {
        "id": "5dNyGQIvVV4A"
      },
      "execution_count": null,
      "outputs": []
    },
    {
      "cell_type": "code",
      "source": [
        "oracle = Solver() # Inializing the SAT oracle without assumptions"
      ],
      "metadata": {
        "id": "sCoqkPVdy7cN"
      },
      "execution_count": null,
      "outputs": []
    },
    {
      "cell_type": "code",
      "source": [
        "# first cardinality constraint encoding k-flips(atmost), doest not change during iteration\n",
        "\n",
        "G1 = CardEnc.atmost(lits= literals, encoding=1, bound= k) \n",
        "\n",
        "# feed each clauses to the SAT oracle\n",
        "for cl in G1.clauses:\n",
        "  oracle.add_clause(cl)"
      ],
      "metadata": {
        "id": "Tzcc4nBGU7ly"
      },
      "execution_count": null,
      "outputs": []
    },
    {
      "cell_type": "code",
      "source": [
        "print(len(G1.clauses))"
      ],
      "metadata": {
        "colab": {
          "base_uri": "https://localhost:8080/"
        },
        "id": "uBjAI0JVj_KB",
        "outputId": "44549a0a-e5d6-470b-a372-7dfbf3c40f02"
      },
      "execution_count": null,
      "outputs": [
        {
          "output_type": "stream",
          "name": "stdout",
          "text": [
            "1040\n"
          ]
        }
      ]
    },
    {
      "cell_type": "markdown",
      "source": [
        "Now, we need consider second cardinality constraint for number of satisfying clauses (atleat). That changes in each iteration"
      ],
      "metadata": {
        "id": "Bt_c7fHZlURS"
      }
    },
    {
      "cell_type": "markdown",
      "source": [
        "##**The Loop**"
      ],
      "metadata": {
        "id": "h9CYzT_cs7U3"
      }
    },
    {
      "cell_type": "code",
      "source": [
        "T_p = {} # A dictionary for the new assignment \n",
        "\n",
        "for i in range(1,iterations+1):\n",
        "\n",
        "  # second cardinality constraint encoding number of satisfying clauses(#atleat), changes during each iteration\n",
        "  G2 = CardEnc.atleast(lits= literals, encoding=1, bound= score)\n",
        "\n",
        "  #print(len(G2.clauses))\n",
        "\n",
        "  # feed each clause of the G2 to the SAT oracle\n",
        "  for cl in G2.clauses:\n",
        "    oracle.add_clause(cl)\n",
        "\n",
        "  is_sat = oracle.solve() # checking the satisfiability/solving the SAT\n",
        "\n",
        "  print(is_sat)\n",
        "\n",
        "  if is_sat:     # if True\n",
        "\n",
        "    m = oracle.get_model()  # get the satisfying asignment (model)\n",
        "    print(m)\n",
        "\n",
        "    # computing the new assignmnet (binary vector) corresponding to the model\n",
        "    for i in range(1,num_vars+1):\n",
        "      if m[i]>0:\n",
        "        T_p[i] = 1\n",
        "      else:\n",
        "        T_p[i] = 0\n",
        "\n",
        "    #calculating the number of satisfied clauses in the original formula F for the new assignment\n",
        "    sl = nof_scl(f1.clauses,T_p)\n",
        "\n",
        "    #adding it to the list\n",
        "    nof_cl.append(sl)\n",
        "\n",
        "    #updating the number of satisfied clauses for the second cardinality constraint encoding in next iteration\n",
        "    score = sl\n",
        "\n",
        "  else:    # if USAT abort\n",
        "    print(\"USAT at iteration \",i)\n",
        "    oracle.delete()\n",
        "    break"
      ],
      "metadata": {
        "colab": {
          "base_uri": "https://localhost:8080/"
        },
        "id": "FUiJDzre_ZUe",
        "outputId": "7aaf15a0-43b4-4958-cdf6-43ff5186cded"
      },
      "execution_count": null,
      "outputs": [
        {
          "output_type": "stream",
          "name": "stdout",
          "text": [
            "False\n",
            "USAT at iteration  1\n"
          ]
        }
      ]
    },
    {
      "cell_type": "code",
      "source": [
        "nof_cl"
      ],
      "metadata": {
        "colab": {
          "base_uri": "https://localhost:8080/"
        },
        "id": "6vqXVSDLeHX-",
        "outputId": "7f662da0-c1f9-4539-ecca-d081450ed15c"
      },
      "execution_count": null,
      "outputs": [
        {
          "output_type": "execute_result",
          "data": {
            "text/plain": [
              "[1, 2]"
            ]
          },
          "metadata": {},
          "execution_count": 50
        }
      ]
    },
    {
      "cell_type": "code",
      "source": [
        "import matplotlib.pyplot as plt\n",
        "\n",
        "plt.plot(nof_cl)\n",
        "  \n",
        "plt.xlabel('no. of iterations')\n",
        "\n",
        "plt.ylabel('no. of satisfying clauses in each iterations')\n",
        "  \n",
        "\n",
        "plt.title('plot of iterations vs no. of satisfying clauses')\n",
        "  \n",
        "plt.show()"
      ],
      "metadata": {
        "colab": {
          "base_uri": "https://localhost:8080/",
          "height": 295
        },
        "id": "zV4dYm7gnSYM",
        "outputId": "b46d4c7b-db03-40ae-baf4-990d33d34229"
      },
      "execution_count": null,
      "outputs": [
        {
          "output_type": "display_data",
          "data": {
            "text/plain": [
              "<Figure size 432x288 with 1 Axes>"
            ],
            "image/png": "[encoded data removed]"
          },
          "metadata": {
            "needs_background": "light"
          }
        }
      ]
    },
    {
      "cell_type": "markdown",
      "source": [
        "##**TODO:**\n",
        "\n",
        "2. Analyze the effect of the parameter k on the number of iterations.\n",
        "3. Compare the no. of iterations with actual run time (including the time for SAT-solver).\n"
      ],
      "metadata": {
        "id": "c98jc_MLeJgd"
      }
    }
  ]
}